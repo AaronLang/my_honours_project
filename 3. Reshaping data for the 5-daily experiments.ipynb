{
 "cells": [
  {
   "cell_type": "code",
   "execution_count": 1,
   "metadata": {},
   "outputs": [
    {
     "name": "stdout",
     "output_type": "stream",
     "text": [
      "netcdf_index loaded.\n"
     ]
    },
    {
     "name": "stderr",
     "output_type": "stream",
     "text": [
      "/home/156/al1353/.local/lib/python3.6/site-packages/cmocean/tools.py:76: MatplotlibDeprecationWarning: The is_string_like function was deprecated in version 2.1.\n",
      "  if not mpl.cbook.is_string_like(rgbin[0]):\n"
     ]
    }
   ],
   "source": [
    "%matplotlib inline\n",
    "\n",
    "from cosima_cookbook import build_index, get_nc_variable\n",
    "import matplotlib.pyplot as plt\n",
    "import xarray as xr\n",
    "import numpy as np\n",
    "import joblib\n",
    "import netCDF4 as nc\n",
    "import cartopy.crs as ccrs\n",
    "import cartopy.feature as cft\n",
    "import cmocean as cm\n",
    "import IPython.display"
   ]
  },
  {
   "cell_type": "code",
   "execution_count": 2,
   "metadata": {},
   "outputs": [],
   "source": [
    "memory = joblib.Memory(cachedir='.')"
   ]
  },
  {
   "cell_type": "code",
   "execution_count": 3,
   "metadata": {},
   "outputs": [],
   "source": [
    "expts = ['gfdl_nyf_1080_cp','gfdl_nyf_1080_SH','gfdl_nyf_1080_PI','gfdl_nyf_1080_UP']"
   ]
  },
  {
   "cell_type": "markdown",
   "metadata": {},
   "source": [
    "# Load data"
   ]
  },
  {
   "cell_type": "code",
   "execution_count": 4,
   "metadata": {},
   "outputs": [
    {
     "data": {
      "application/vnd.jupyter.widget-view+json": {
       "model_id": "ed53da4105a44043bbad15d74579cd94",
       "version_major": 2,
       "version_minor": 0
      },
      "text/html": [
       "<p>Failed to display Jupyter Widget of type <code>HBox</code>.</p>\n",
       "<p>\n",
       "  If you're reading this message in the Jupyter Notebook or JupyterLab Notebook, it may mean\n",
       "  that the widgets JavaScript is still loading. If this message persists, it\n",
       "  likely means that the widgets JavaScript library is either not installed or\n",
       "  not enabled. See the <a href=\"https://ipywidgets.readthedocs.io/en/stable/user_install.html\">Jupyter\n",
       "  Widgets Documentation</a> for setup instructions.\n",
       "</p>\n",
       "<p>\n",
       "  If you're reading this message in another frontend (for example, a static\n",
       "  rendering on GitHub or <a href=\"https://nbviewer.jupyter.org/\">NBViewer</a>),\n",
       "  it may mean that your frontend doesn't currently support widgets.\n",
       "</p>\n"
      ],
      "text/plain": [
       "HBox(children=(IntProgress(value=0, description='get_nc_variable:', max=10), HTML(value='')))"
      ]
     },
     "metadata": {},
     "output_type": "display_data"
    },
    {
     "name": "stdout",
     "output_type": "stream",
     "text": [
      "\r"
     ]
    },
    {
     "name": "stderr",
     "output_type": "stream",
     "text": [
      "/home/156/al1353/cosima-cookbook/cosima_cookbook/netcdf_index.py:368: SerializationWarning: Unable to decode time axis into full numpy.datetime64 objects, continuing using dummy netCDF4.datetime objects instead, reason: dates out of range\n",
      "  decoded_time = xr.conventions.decode_cf_datetime(dataarray.time, time_units)\n"
     ]
    },
    {
     "data": {
      "application/vnd.jupyter.widget-view+json": {
       "model_id": "85d4b24365c34d8db19dfb0177832c71",
       "version_major": 2,
       "version_minor": 0
      },
      "text/html": [
       "<p>Failed to display Jupyter Widget of type <code>HBox</code>.</p>\n",
       "<p>\n",
       "  If you're reading this message in the Jupyter Notebook or JupyterLab Notebook, it may mean\n",
       "  that the widgets JavaScript is still loading. If this message persists, it\n",
       "  likely means that the widgets JavaScript library is either not installed or\n",
       "  not enabled. See the <a href=\"https://ipywidgets.readthedocs.io/en/stable/user_install.html\">Jupyter\n",
       "  Widgets Documentation</a> for setup instructions.\n",
       "</p>\n",
       "<p>\n",
       "  If you're reading this message in another frontend (for example, a static\n",
       "  rendering on GitHub or <a href=\"https://nbviewer.jupyter.org/\">NBViewer</a>),\n",
       "  it may mean that your frontend doesn't currently support widgets.\n",
       "</p>\n"
      ],
      "text/plain": [
       "HBox(children=(IntProgress(value=0, description='get_nc_variable:', max=10), HTML(value='')))"
      ]
     },
     "metadata": {},
     "output_type": "display_data"
    },
    {
     "name": "stdout",
     "output_type": "stream",
     "text": [
      "\r"
     ]
    },
    {
     "data": {
      "application/vnd.jupyter.widget-view+json": {
       "model_id": "259399b5d7e9443b90788e8f6fe8a3b9",
       "version_major": 2,
       "version_minor": 0
      },
      "text/html": [
       "<p>Failed to display Jupyter Widget of type <code>HBox</code>.</p>\n",
       "<p>\n",
       "  If you're reading this message in the Jupyter Notebook or JupyterLab Notebook, it may mean\n",
       "  that the widgets JavaScript is still loading. If this message persists, it\n",
       "  likely means that the widgets JavaScript library is either not installed or\n",
       "  not enabled. See the <a href=\"https://ipywidgets.readthedocs.io/en/stable/user_install.html\">Jupyter\n",
       "  Widgets Documentation</a> for setup instructions.\n",
       "</p>\n",
       "<p>\n",
       "  If you're reading this message in another frontend (for example, a static\n",
       "  rendering on GitHub or <a href=\"https://nbviewer.jupyter.org/\">NBViewer</a>),\n",
       "  it may mean that your frontend doesn't currently support widgets.\n",
       "</p>\n"
      ],
      "text/plain": [
       "HBox(children=(IntProgress(value=0, description='get_nc_variable:', max=10), HTML(value='')))"
      ]
     },
     "metadata": {},
     "output_type": "display_data"
    },
    {
     "name": "stdout",
     "output_type": "stream",
     "text": [
      "\r"
     ]
    },
    {
     "data": {
      "application/vnd.jupyter.widget-view+json": {
       "model_id": "59721d6565ea4859983b9ec4f5681b61",
       "version_major": 2,
       "version_minor": 0
      },
      "text/html": [
       "<p>Failed to display Jupyter Widget of type <code>HBox</code>.</p>\n",
       "<p>\n",
       "  If you're reading this message in the Jupyter Notebook or JupyterLab Notebook, it may mean\n",
       "  that the widgets JavaScript is still loading. If this message persists, it\n",
       "  likely means that the widgets JavaScript library is either not installed or\n",
       "  not enabled. See the <a href=\"https://ipywidgets.readthedocs.io/en/stable/user_install.html\">Jupyter\n",
       "  Widgets Documentation</a> for setup instructions.\n",
       "</p>\n",
       "<p>\n",
       "  If you're reading this message in another frontend (for example, a static\n",
       "  rendering on GitHub or <a href=\"https://nbviewer.jupyter.org/\">NBViewer</a>),\n",
       "  it may mean that your frontend doesn't currently support widgets.\n",
       "</p>\n"
      ],
      "text/plain": [
       "HBox(children=(IntProgress(value=0, description='get_nc_variable:', max=10), HTML(value='')))"
      ]
     },
     "metadata": {},
     "output_type": "display_data"
    },
    {
     "name": "stdout",
     "output_type": "stream",
     "text": [
      "\r"
     ]
    }
   ],
   "source": [
    "u = get_nc_variable(expts[0],'ocean__\\d+_\\d+.nc','u',n=10, time_units='days since 1900-01-01')\n",
    "\n",
    "dzt = get_nc_variable(expts[0],'ocean__\\d+_\\d+.nc','dzt',n=10, time_units='days since 1900-01-01')\n",
    "\n",
    "yt_ocean = get_nc_variable(expts[0],'ocean__\\d+_\\d+.nc','yt_ocean',n=10, time_units='days since 1900-01-01')\n",
    "\n",
    "rho = get_nc_variable(expts[0],'ocean__\\d+_\\d+.nc','pot_rho_2',n=10, time_units='days since 1900-01-01')"
   ]
  },
  {
   "cell_type": "markdown",
   "metadata": {},
   "source": [
    "# 1.Change the coordinates of the u_t "
   ]
  },
  {
   "cell_type": "code",
   "execution_count": 5,
   "metadata": {},
   "outputs": [],
   "source": [
    "u_t = dzt.copy()*0.0\n",
    "u_t.name = 'u_t'\n",
    "u_t.load()\n",
    "u_t[:,:,2:,2:] = 0.25*(u[:,:,1:,1:] + u[:,:,:-1,:-1] + u[:,:,1:,:-1] + u[:,:,:-1,1:]) #Just do the multiplication \n",
    "#between xt_ocean and yt_ocean"
   ]
  },
  {
   "cell_type": "code",
   "execution_count": 6,
   "metadata": {},
   "outputs": [
    {
     "data": {
      "text/plain": [
       "(10, 50, 1079, 1439)"
      ]
     },
     "execution_count": 6,
     "metadata": {},
     "output_type": "execute_result"
    }
   ],
   "source": [
    "u_t[:,:,1:,1:].shape"
   ]
  },
  {
   "cell_type": "code",
   "execution_count": 7,
   "metadata": {},
   "outputs": [
    {
     "data": {
      "text/plain": [
       "(10, 50, 1079, 1439)"
      ]
     },
     "execution_count": 7,
     "metadata": {},
     "output_type": "execute_result"
    }
   ],
   "source": [
    "u[:,:,:-1,1:].shape"
   ]
  },
  {
   "cell_type": "markdown",
   "metadata": {},
   "source": [
    "# 2. Calculate the tx_trans"
   ]
  },
  {
   "cell_type": "markdown",
   "metadata": {},
   "source": [
    "## 2.1 (uh)mean"
   ]
  },
  {
   "cell_type": "code",
   "execution_count": 8,
   "metadata": {},
   "outputs": [],
   "source": [
    "a=u_t[0,0,:,:]*dzt[0,0,:,:] # a is doing the multipication for the last 2 dimensions: yt_ocean and xt_ocean\n",
    "\n",
    "b=a[:,0]*yt_ocean # b is doing the multipication only for the yt_ocean dimension\n",
    "\n",
    "c=dzt.copy()*0.0 # construct an empty xarray with shape of dzt\n",
    "\n",
    "c.load() # load data\n",
    "\n",
    "c[:,:,0,0]=u_t[:,:,0,0] # the first 2 arrays are the same as u_t\n",
    "\n",
    "c[0,0,:,0]=b # the third array of c euqals b\n",
    "\n",
    "c[0,0,0,:]=a[0,:] # The last array of c equals the last array of a\n",
    "\n",
    "tx_trans = c # c is actually the tx_transport"
   ]
  },
  {
   "cell_type": "markdown",
   "metadata": {},
   "source": [
    "## 2.2 u_mean*h_mean"
   ]
  },
  {
   "cell_type": "code",
   "execution_count": 32,
   "metadata": {},
   "outputs": [],
   "source": [
    "utm = u_t.mean(dim='time')\n",
    "dztm = dzt.mean(dim='time')"
   ]
  },
  {
   "cell_type": "code",
   "execution_count": 37,
   "metadata": {},
   "outputs": [
    {
     "name": "stderr",
     "output_type": "stream",
     "text": [
      "/g/data3/hh5/public/apps/miniconda3/envs/analysis3/lib/python3.6/site-packages/dask/array/numpy_compat.py:45: RuntimeWarning: invalid value encountered in true_divide\n",
      "  x = np.divide(x1, x2, out)\n"
     ]
    }
   ],
   "source": [
    "am=utm[0,:,:]*dztm[0,:,:] # a is doing the multipication for the last 2 dimensions: yt_ocean and xt_ocean\n",
    "\n",
    "bm=am[:,0]*yt_ocean # b is doing the multipication only for the yt_ocean dimension\n",
    "\n",
    "cm=utm.copy()*0.0 # construct an empty xarray with shape of dzt\n",
    "\n",
    "cm.load() # load data\n",
    "\n",
    "cm[:,0,0]=utm[:,0,0] # the first 2 arrays are the same as u_t\n",
    "\n",
    "cm[0,:,0]=bm # the third array of c euqals b\n",
    "\n",
    "cm[0,0,:]=am[0,:] # The last array of c equals the last array of a\n",
    "\n",
    "txtrans_m = cm # c is actually the tx_transport"
   ]
  },
  {
   "cell_type": "code",
   "execution_count": 22,
   "metadata": {},
   "outputs": [
    {
     "data": {
      "text/plain": [
       "<xarray.DataArray 'dzt' ()>\n",
       "array(0.0)\n",
       "Coordinates:\n",
       "    yt_ocean  float64 -44.2\n",
       "    xt_ocean  float64 -204.9\n",
       "    st_ocean  float64 330.0\n",
       "    time      object 2449-07-13T12:00:00\n",
       "    geolat_t  float64 -44.2\n",
       "    geolon_t  float64 -204.9"
      ]
     },
     "execution_count": 22,
     "metadata": {},
     "output_type": "execute_result"
    }
   ],
   "source": [
    "tx_trans[2,20,300,300]"
   ]
  },
  {
   "cell_type": "code",
   "execution_count": 23,
   "metadata": {},
   "outputs": [
    {
     "data": {
      "text/plain": [
       "<xarray.DataArray 'dzt' (time: 10, st_ocean: 50, yt_ocean: 1080, xt_ocean: 1440)>\n",
       "array([[[[ nan, ...,  nan],\n",
       "         ..., \n",
       "         [ nan, ...,  nan]],\n",
       "\n",
       "        ..., \n",
       "        [[ nan, ...,  nan],\n",
       "         ..., \n",
       "         [ nan, ...,  nan]]],\n",
       "\n",
       "\n",
       "       ..., \n",
       "       [[[ nan, ...,  nan],\n",
       "         ..., \n",
       "         [ nan, ...,  nan]],\n",
       "\n",
       "        ..., \n",
       "        [[ nan, ...,  nan],\n",
       "         ..., \n",
       "         [ nan, ...,  nan]]]])\n",
       "Coordinates:\n",
       "  * yt_ocean  (yt_ocean) float64 -81.08 -80.97 -80.87 -80.76 -80.65 -80.55 ...\n",
       "  * xt_ocean  (xt_ocean) float64 -279.9 -279.6 -279.4 -279.1 -278.9 -278.6 ...\n",
       "  * st_ocean  (st_ocean) float64 5.034 15.1 25.22 35.36 45.58 55.85 66.26 ...\n",
       "  * time      (time) object 2449-07-03T12:00:00 2449-07-08T12:00:00 ...\n",
       "    geolat_t  (time, yt_ocean, xt_ocean) float64 -81.08 -81.08 -81.08 -81.08 ...\n",
       "    geolon_t  (time, yt_ocean, xt_ocean) float64 -279.9 -279.6 -279.4 -279.1 ..."
      ]
     },
     "execution_count": 23,
     "metadata": {},
     "output_type": "execute_result"
    }
   ],
   "source": [
    "tx_trans"
   ]
  },
  {
   "cell_type": "code",
   "execution_count": 40,
   "metadata": {},
   "outputs": [
    {
     "data": {
      "text/plain": [
       "<xarray.DataArray 'u_t' (st_ocean: 50, yt_ocean: 1080, xt_ocean: 1440)>\n",
       "array([[[ nan,  nan, ...,  nan,  nan],\n",
       "        [ nan,  nan, ...,  nan,  nan],\n",
       "        ..., \n",
       "        [ nan,  nan, ...,  nan,  nan],\n",
       "        [ nan,  nan, ...,  nan,  nan]],\n",
       "\n",
       "       [[ nan,  nan, ...,  nan,  nan],\n",
       "        [ nan,  nan, ...,  nan,  nan],\n",
       "        ..., \n",
       "        [ nan,  nan, ...,  nan,  nan],\n",
       "        [ nan,  nan, ...,  nan,  nan]],\n",
       "\n",
       "       ..., \n",
       "       [[ nan,  nan, ...,  nan,  nan],\n",
       "        [ nan,  nan, ...,  nan,  nan],\n",
       "        ..., \n",
       "        [ nan,  nan, ...,  nan,  nan],\n",
       "        [ nan,  nan, ...,  nan,  nan]],\n",
       "\n",
       "       [[ nan,  nan, ...,  nan,  nan],\n",
       "        [ nan,  nan, ...,  nan,  nan],\n",
       "        ..., \n",
       "        [ nan,  nan, ...,  nan,  nan],\n",
       "        [ nan,  nan, ...,  nan,  nan]]])\n",
       "Coordinates:\n",
       "  * yt_ocean  (yt_ocean) float64 -81.08 -80.97 -80.87 -80.76 -80.65 -80.55 ...\n",
       "  * xt_ocean  (xt_ocean) float64 -279.9 -279.6 -279.4 -279.1 -278.9 -278.6 ...\n",
       "  * st_ocean  (st_ocean) float64 5.034 15.1 25.22 35.36 45.58 55.85 66.26 ..."
      ]
     },
     "execution_count": 40,
     "metadata": {},
     "output_type": "execute_result"
    }
   ],
   "source": [
    "txtrans_m"
   ]
  },
  {
   "cell_type": "markdown",
   "metadata": {},
   "source": [
    "# 3. Transport"
   ]
  },
  {
   "cell_type": "code",
   "execution_count": 9,
   "metadata": {},
   "outputs": [],
   "source": [
    "@memory.cache\n",
    "def calc_transport(expt):\n",
    "    \n",
    "    tx_trans_inz=tx_trans.sel(yt_ocean=slice(None, -10))\\\n",
    "                     .sel(xu_ocean=slice(0, 60))\\\n",
    "                     .sum('st_ocean')  \n",
    "\n",
    "    streamfunction = tx_trans_inz.cumsum('yt_ocean') # integrate in y direction\n",
    "\n",
    "    streamfunction0 = streamfunction.sel(xu_ocean=20, yt_ocean=-10, method='nearest') # select somewhere\n",
    "    # on the continent to be reference point \n",
    "\n",
    "    transport = - (streamfunction - streamfunction0) # To make the transport on the continent to be 0\n",
    "    \n",
    "    transport = transport.compute()\n",
    "    \n",
    "    return transport"
   ]
  },
  {
   "cell_type": "markdown",
   "metadata": {},
   "source": [
    "# 4. AL"
   ]
  },
  {
   "cell_type": "code",
   "execution_count": 10,
   "metadata": {},
   "outputs": [],
   "source": [
    "@memory.cache\n",
    "def mask(expt):\n",
    "    \n",
    "    al_rho = rho\\\n",
    "                .sel(yt_ocean=slice(-42, -37))\\\n",
    "                .sel(xt_ocean=20, method='nearest')\\\n",
    "                .mean(dim='time')\\\n",
    "                .compute()\n",
    "    al_mask = (al_rho <= 1026.5)\n",
    "    \n",
    "    return al_mask"
   ]
  },
  {
   "cell_type": "code",
   "execution_count": 11,
   "metadata": {},
   "outputs": [],
   "source": [
    "@memory.cache\n",
    "def calc_altransport(expt):\n",
    "    \n",
    "    al_tx_trans = tx_trans\\\n",
    "                .sel(yt_ocean=slice(-42, -37))\\\n",
    "                .sel(xt_ocean=20, method='nearest')\\\n",
    "                .mean(dim='time')\\\n",
    "                .compute()\n",
    "    \n",
    "    return al_tx_trans"
   ]
  },
  {
   "cell_type": "code",
   "execution_count": 12,
   "metadata": {},
   "outputs": [],
   "source": [
    "@memory.cache\n",
    "def tdrho(expt):\n",
    "    \n",
    "    al_rho_2d = rho\\\n",
    "                .sel(yt_ocean=slice(-42, -37))\\\n",
    "                .sel(xt_ocean=20, method='nearest')\\\n",
    "                .mean(dim='time')\\\n",
    "                .compute()\n",
    "    \n",
    "    return al_rho_2d"
   ]
  },
  {
   "cell_type": "code",
   "execution_count": 15,
   "metadata": {
    "scrolled": false
   },
   "outputs": [
    {
     "name": "stderr",
     "output_type": "stream",
     "text": [
      "/g/data3/hh5/public/apps/miniconda3/envs/analysis3/lib/python3.6/site-packages/matplotlib/contour.py:1180: UserWarning: No contour levels were found within the data range.\n",
      "  warnings.warn(\"No contour levels were found\"\n"
     ]
    },
    {
     "data": {
      "image/png": "[encoded data removed]",
      "text/plain": [
       "<matplotlib.figure.Figure at 0x7f5ff55c6c50>"
      ]
     },
     "metadata": {},
     "output_type": "display_data"
    },
    {
     "data": {
      "image/png": "[encoded data removed]",
      "text/plain": [
       "<matplotlib.figure.Figure at 0x7f5ff5e1c128>"
      ]
     },
     "metadata": {},
     "output_type": "display_data"
    },
    {
     "data": {
      "image/png": "[encoded data removed]",
      "text/plain": [
       "<matplotlib.figure.Figure at 0x7f5ff5fff630>"
      ]
     },
     "metadata": {},
     "output_type": "display_data"
    },
    {
     "data": {
      "image/png": "[encoded data removed]",
      "text/plain": [
       "<matplotlib.figure.Figure at 0x7f5ff5fdd4a8>"
      ]
     },
     "metadata": {},
     "output_type": "display_data"
    }
   ],
   "source": [
    "for expt in expts:\n",
    "    \n",
    "    al_mask_2d = mask(expt)\n",
    "    al_tx_trans_2d = calc_altransport(expt)\n",
    "    al_rho_2d = tdrho(expt)\n",
    "    plt.figure()\n",
    "    al_rho_2d.plot.contour(levels=[1026.5], colors='k')\n",
    "    (al_tx_trans_2d * al_mask_2d).plot.contourf(levels=15)   \n",
    "    plt.ylim(1000, 0)\n",
    "    plt.title(expt)"
   ]
  },
  {
   "cell_type": "code",
   "execution_count": 14,
   "metadata": {},
   "outputs": [
    {
     "data": {
      "text/plain": [
       "<matplotlib.legend.Legend at 0x7f5ffaa0c0b8>"
      ]
     },
     "execution_count": 14,
     "metadata": {},
     "output_type": "execute_result"
    },
    {
     "data": {
      "image/png": "[encoded data removed]",
      "text/plain": [
       "<matplotlib.figure.Figure at 0x7f5ff6807c88>"
      ]
     },
     "metadata": {},
     "output_type": "display_data"
    }
   ],
   "source": [
    "plt.figure(figsize=(18,10))\n",
    "for expt in expts:\n",
    "    temp = (calc_altransport(expt) * mask(expt)).cumsum('yt_ocean').sum('st_ocean')\n",
    "    temp1 = temp - temp[-1]\n",
    "    temp1.plot(label=expt)\n",
    "plt.legend(loc=0)   "
   ]
  },
  {
   "cell_type": "markdown",
   "metadata": {},
   "source": [
    "## u.mean*h.mean"
   ]
  },
  {
   "cell_type": "code",
   "execution_count": null,
   "metadata": {},
   "outputs": [],
   "source": [
    "@memory.cache\n",
    "def calc_altransport_m(expt):\n",
    "    \n",
    "    al_tx_trans_m = txtrans_m\\\n",
    "                .sel(yt_ocean=slice(-42, -37))\\\n",
    "                .sel(xt_ocean=20, method='nearest')\\\n",
    "                .mean(dim='time')\\\n",
    "                .compute()\n",
    "    \n",
    "    return al_tx_trans_m"
   ]
  },
  {
   "cell_type": "code",
   "execution_count": null,
   "metadata": {},
   "outputs": [],
   "source": []
  }
 ],
 "metadata": {
  "kernelspec": {
   "display_name": "Python [conda env:analysis3]",
   "language": "python",
   "name": "conda-env-analysis3-py"
  },
  "language_info": {
   "codemirror_mode": {
    "name": "ipython",
    "version": 3
   },
   "file_extension": ".py",
   "mimetype": "text/x-python",
   "name": "python",
   "nbconvert_exporter": "python",
   "pygments_lexer": "ipython3",
   "version": "3.6.4"
  }
 },
 "nbformat": 4,
 "nbformat_minor": 2
}
